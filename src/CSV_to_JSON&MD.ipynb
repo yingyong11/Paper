{
 "cells": [
  {
   "cell_type": "code",
   "execution_count": 4,
   "id": "e2912f32",
   "metadata": {},
   "outputs": [],
   "source": [
    "# Import the necessary packages. Refer to the Readme.md file for the reason to use the package.\n",
    "import pandas as pd"
   ]
  },
  {
   "cell_type": "code",
   "execution_count": 5,
   "id": "b83e7901",
   "metadata": {},
   "outputs": [],
   "source": [
    "# Save the CSV file in Json & Markdown format (All Freight indexes)\n",
    "Freights = pd.read_csv(\"C:/Python/Data/table_freights.csv\", sep = \",\")\n",
    "Freights.to_json(\"C:/Python/Data/table_freights.json\", orient = \"records\")\n",
    "Freights.to_markdown(\"C:/Python/Data/table_freights.md\")\n",
    "\n",
    "\n",
    "# Save the CSV file in Json & Markdown format (Oceanfreight, Airfreight indexes)\n",
    "OceanFreight = pd.read_csv(\"C:/Python/Data/table_oceanfreight.csv\", sep = \",\")\n",
    "OceanFreight.to_json(\"C:/Python/Data/table_oceanfreight.json\", orient = \"records\")\n",
    "OceanFreight.to_markdown(\"C:/Python/Data/table_oceanfreight.md\")\n",
    "\n",
    "AirFreight = pd.read_csv(\"C:/Python/Data/table_airfreight.csv\", sep = \",\")\n",
    "AirFreight.to_json(\"C:/Python/Data/table_airfreight.json\", orient = \"records\")\n",
    "AirFreight.to_markdown(\"C:/Python/Data/table_airfreight.md\")"
   ]
  }
 ],
 "metadata": {
  "kernelspec": {
   "display_name": "Python 3 (ipykernel)",
   "language": "python",
   "name": "python3"
  },
  "language_info": {
   "codemirror_mode": {
    "name": "ipython",
    "version": 3
   },
   "file_extension": ".py",
   "mimetype": "text/x-python",
   "name": "python",
   "nbconvert_exporter": "python",
   "pygments_lexer": "ipython3",
   "version": "3.9.12"
  }
 },
 "nbformat": 4,
 "nbformat_minor": 5
}
