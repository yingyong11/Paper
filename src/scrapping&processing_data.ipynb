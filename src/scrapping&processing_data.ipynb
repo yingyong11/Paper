{
 "cells": [
  {
   "cell_type": "code",
   "execution_count": 12,
   "metadata": {},
   "outputs": [],
   "source": [
    "# Import the necessary packages. Refer to the Readme.md file for the reason to use the package.\n",
    "import pandas as pd\n",
    "from urllib.request import Request,urlopen\n",
    "from bs4 import BeautifulSoup\n",
    "from datetime import datetime\n",
    "from html_table_parser import parser_functions as parser\n",
    "from selenium import webdriver\n",
    "from selenium.webdriver.common.by import By\n",
    "from selenium.webdriver.support.ui import WebDriverWait\n",
    "from selenium.webdriver.support import expected_conditions as EC\n",
    "import time"
   ]
  },
  {
   "cell_type": "code",
   "execution_count": 13,
   "metadata": {},
   "outputs": [
    {
     "name": "stderr",
     "output_type": "stream",
     "text": [
      "C:\\Users\\류현철\\AppData\\Local\\Temp\\ipykernel_28148\\3240937553.py:7: DeprecationWarning: executable_path has been deprecated, please pass in a Service object\n",
      "  driver_BAI = webdriver.Chrome('C:/Users/defaultuser100000/python/Lib/site-packages/selenium/webdriver/chrome/chromedriver')\n"
     ]
    }
   ],
   "source": [
    "# Loading html elements through Selenium(BAI index), because index data is on the dynamic homepage.\n",
    "# Set the url information where the index data is displayed.\n",
    "url_BAI = 'https://dashboard.tacindex.com/dashboard'\n",
    "\n",
    "# After creating an object with the url_(index) variable, specify the location of the chrome driver.\n",
    "# Need to redirect it to your own path.\n",
    "driver_BAI = webdriver.Chrome('C:/Users/defaultuser100000/python/Lib/site-packages/selenium/webdriver/chrome/chromedriver')\n",
    "\n",
    "# Access the url\n",
    "driver_BAI.get(url_BAI)\n",
    "\n",
    "# Wait up to 5 seconds for web support to load.\n",
    "# In the case of 'explicitly wait', it is a command to wait until the part I need is displayed.\n",
    "element = WebDriverWait(driver_BAI, 5).until(EC.presence_of_element_located((By.XPATH, '/html/body/app-root/div[2]/app-dashboard/div/div/div[3]/div[4]')))\n",
    "\n",
    "# Get information about webpage\n",
    "html_BAI = driver_BAI.page_source\n",
    "\n",
    "# Parse html using 'html.parser'.\n",
    "soup_BAI = BeautifulSoup(html_BAI, 'html.parser')\n",
    "\n",
    "# Get the value of the tag information of the desired location\n",
    "temp_BAI = soup_BAI.find('div',{'class':'table-container'})\n",
    "\n",
    "# Store the imported value in the text_(index) varaible, using 'make2d'\n",
    "text_BAI = parser.make2d(temp_BAI)\n",
    "\n",
    "# Convert the saved data into dataframe format.\n",
    "df_BAI=pd.DataFrame(text_BAI[1:],columns=text_BAI[0])\n",
    "\n",
    "# Convert the dataframe format to a standardized format.\n",
    "df_BAI = df_BAI.rename(columns={'Index' : 'Item', 'Route' : 'Index'})\n",
    "df_BAI.insert(0, 'Date', datetime.today().strftime(\"%Y-%m-%d\"))\n",
    "df_BAI.insert(0, 'Type', 'Air Freight')\n",
    "df_BAI.insert(0, 'Date+Index', df_BAI['Date'] + '_' + df_BAI['Index'])\n",
    "df_BAI.insert(0, 'IsOceanFreight', 'False')"
   ]
  },
  {
   "cell_type": "code",
   "execution_count": 14,
   "metadata": {
    "scrolled": true
   },
   "outputs": [
    {
     "name": "stderr",
     "output_type": "stream",
     "text": [
      "C:\\Users\\류현철\\AppData\\Local\\Temp\\ipykernel_28148\\3748317019.py:7: DeprecationWarning: executable_path has been deprecated, please pass in a Service object\n",
      "  driver_BDI = webdriver.Chrome('C:/Users/defaultuser100000/python/Lib/site-packages/selenium/webdriver/chrome/chromedriver')\n"
     ]
    }
   ],
   "source": [
    "# Loading html elements through Selenium (BDI index)\n",
    "# Set the url information where the index data is displayed.\n",
    "url_BDI = 'https://kr.investing.com/indices/baltic-dry-historical-data'\n",
    "\n",
    "# After creating an object with the url_(index) variable, specify the location of the chrome driver.\n",
    "# Need to redirect it to your own path.\n",
    "driver_BDI = webdriver.Chrome('C:/Users/defaultuser100000/python/Lib/site-packages/selenium/webdriver/chrome/chromedriver')\n",
    "\n",
    "# Access the url\n",
    "driver_BDI.get(url_BDI)\n",
    "\n",
    "# Wait up to 10 seconds for web support to load.\n",
    "# In the case of 'time.sleep', unlike 'explcitly wait', it is basically a command to wait for physical time.\n",
    "time.sleep(10)\n",
    "\n",
    "# Get information about webpage\n",
    "html_BDI = driver_BDI.page_source\n",
    "\n",
    "# Parse html using 'html.parser'.\n",
    "soup_BDI = BeautifulSoup(html_BDI, 'html.parser')\n",
    "\n",
    "# Get the value of the tag information of the desired location\n",
    "temp_BDI = soup_BDI.find('table',{'class':'datatable_table__2Qbdw datatable_table--border__1hROx datatable_table--mobile-basic__2Up9u datatable_table--freeze-column__2e8u1'})\n",
    "\n",
    "# Store the imported value in the text_(index) varaible, using 'make2d'\n",
    "text_BDI = parser.make2d(temp_BDI)\n",
    "\n",
    "# Convert the saved data into dataframe format.\n",
    "df_BDI=pd.DataFrame(text_BDI[1:],columns=text_BDI[0])\n",
    "\n",
    "# Convert the dataframe format to a standardized format.\n",
    "df_BDI.rename(columns={df_BDI.columns[0]: 'Date', df_BDI.columns[1]: 'Value'}, inplace=True)\n",
    "df_BDI.insert(0, 'Index', 'BDI')\n",
    "df_BDI.insert(0, 'Type', 'Ocean Freight')\n",
    "df_BDI.insert(0, 'Date+Index', df_BDI['Date'] + '_' + df_BDI['Index'])\n",
    "df_BDI.insert(0, 'IsOceanFreight', 'True')"
   ]
  },
  {
   "cell_type": "code",
   "execution_count": 15,
   "metadata": {},
   "outputs": [],
   "source": [
    "# Loading html elements through Beautifulsoup (CCFI index)\n",
    "# Set the url information where the index data is displayed.\n",
    "url_CCFI = 'https://www.kcla.kr/web/inc/html/4-1_2.asp'\n",
    "\n",
    "# Get information about webpage using python's built-in module, 'urllib'.\n",
    "result_CCFI = urlopen(url_CCFI)\n",
    "html_CCFI = result_CCFI.read()\n",
    "\n",
    "# Parse html using 'html.parser'.\n",
    "soup_CCFI = BeautifulSoup(html_CCFI, 'html.parser')\n",
    "\n",
    "# Get the value of the tag information of the desired location\n",
    "temp_CCFI = soup_CCFI.find('li',{'class':'Guide_Table01'})\n",
    "\n",
    "# Store the imported value in the text_(index) varaible, using 'make2d'\n",
    "text_CCFI = parser.make2d(temp_CCFI)\n",
    "\n",
    "# Convert the saved data into dataframe format.\n",
    "df_CCFI = pd.DataFrame(text_CCFI[0:],columns=text_CCFI[0])\n",
    "\n",
    "# Convert the dataframe format to a standardized format.\n",
    "df_CCFI = df_CCFI.set_index('지수')\n",
    "df_CCFI = df_CCFI.transpose()\n",
    "df_CCFI.columns = ['Date', 'Value']\n",
    "df_CCFI['Date'] =df_CCFI['Date'].str.replace('.', '-', regex = True)\n",
    "df_CCFI.insert(0, 'Index', 'CCFI')\n",
    "df_CCFI.insert(0, 'Type', 'Ocean Freight')\n",
    "df_CCFI.insert(0, 'Date+Index', df_CCFI['Date'] + '_' + df_CCFI['Index'])\n",
    "df_CCFI.insert(0, 'IsOceanFreight', 'True')\n"
   ]
  },
  {
   "cell_type": "code",
   "execution_count": 16,
   "metadata": {},
   "outputs": [
    {
     "name": "stderr",
     "output_type": "stream",
     "text": [
      "C:\\Users\\류현철\\AppData\\Local\\Temp\\ipykernel_28148\\2958964093.py:7: DeprecationWarning: executable_path has been deprecated, please pass in a Service object\n",
      "  driver_SCFI = webdriver.Chrome('C:/Users/defaultuser100000/python/Lib/site-packages/selenium/webdriver/chrome/chromedriver')\n"
     ]
    }
   ],
   "source": [
    "# Loading html elements through Selenium (SCFI index)\n",
    "# Set the url information where the index data is displayed.\n",
    "url_SCFI = 'https://www.tradlinx.com/freight-index'\n",
    "\n",
    "# After creating an object with the url_(index) variable, specify the location of the chrome driver.\n",
    "# Need to redirect it to your own path.\n",
    "driver_SCFI = webdriver.Chrome('C:/Users/defaultuser100000/python/Lib/site-packages/selenium/webdriver/chrome/chromedriver')\n",
    "\n",
    "# Access the url\n",
    "driver_SCFI.get(url_SCFI)\n",
    "\n",
    "# Get information about webpage\n",
    "html_SCFI = driver_SCFI.page_source\n",
    "\n",
    "# Parse html using 'html.parser'.\n",
    "soup_SCFI = BeautifulSoup(html_SCFI, 'html.parser')\n",
    "\n",
    "# Get the value of the tag information of the desired location\n",
    "temp_SCFI = soup_SCFI.find('div',{'class':'freight-table'})\n",
    "\n",
    "# Convert the saved data into dataframe format.\n",
    "text_SCFI = parser.make2d(temp_SCFI)\n",
    "\n",
    "# Convert the dataframe format to a standardized format.\n",
    "df_SCFI=pd.DataFrame(text_SCFI[0:],columns=text_SCFI[0])\n",
    "df_SCFI = df_SCFI.set_index('Date\\nALL')\n",
    "df_SCFI = df_SCFI.transpose()\n",
    "df_SCFI = df_SCFI.rename(columns={'Date\\nALL' : 'Date', 'SCFI' : 'Value'})\n",
    "df_SCFI['Date'] =df_SCFI['Date'].str.replace('2022\\n                ', '2022/', regex = True)\n",
    "df_SCFI['Date'] =df_SCFI['Date'].str.replace('/', '-', regex = True)\n",
    "df_SCFI.insert(0, 'Index', 'SCFI')\n",
    "df_SCFI.insert(0, 'Type', 'Ocean Freight')\n",
    "df_SCFI.insert(0, 'Date+Index', df_SCFI['Date'] + '_' + df_SCFI['Index'])\n",
    "df_SCFI.insert(0, 'IsOceanFreight', 'True')\n"
   ]
  },
  {
   "cell_type": "code",
   "execution_count": 17,
   "metadata": {},
   "outputs": [],
   "source": [
    "# Loading html elements through Beautifulsoup (HRCI index)\n",
    "# Set the url information where the index data is displayed.\n",
    "url_HRCI = 'https://www.ksg.co.kr/shippingGraph/hrci_graph.jsp'\n",
    "\n",
    "# Get information about webpage using python's built-in module, 'urllib'.\n",
    "result_HRCI = urlopen(url_HRCI)\n",
    "html_HRCI = result_HRCI.read()\n",
    "\n",
    "# Parse html using 'html.parser'.\n",
    "soup_HRCI = BeautifulSoup(html_HRCI, 'html.parser')\n",
    "\n",
    "# Get the value of the tag information of the desired location\n",
    "temp_HRCI = soup_HRCI.find('div',{'class':'tableType01'})\n",
    "\n",
    "# Store the imported value in the text_(index) varaible, using 'make2d'\n",
    "text_HRCI = parser.make2d(temp_HRCI)\n",
    "\n",
    "# Convert the saved data into dataframe format.\n",
    "df_HRCI=pd.DataFrame(text_HRCI[1:],columns=text_HRCI[0])\n",
    "\n",
    "# Convert the dataframe format to a standardized format.\n",
    "df_HRCI = df_HRCI.rename(columns={'날짜' : 'Date', 'Index' : 'Value'})\n",
    "df_HRCI['Date'] =df_HRCI['Date'].str.replace('.', '-', regex = True)\n",
    "df_HRCI.insert(0, 'Index', 'HRCI')\n",
    "df_HRCI.insert(0, 'Type', 'Ocean Freight')\n",
    "df_HRCI.insert(0, 'Date+Index', df_HRCI['Date'] + '_' + df_HRCI['Index'])\n",
    "df_HRCI.insert(0, 'IsOceanFreight', 'True')\n"
   ]
  },
  {
   "cell_type": "code",
   "execution_count": 18,
   "metadata": {},
   "outputs": [],
   "source": [
    "# Merge dataframes for each index into one (All Freight indexes)\n",
    "list = [df_BDI, df_CCFI, df_SCFI, df_HRCI, df_BAI]\n",
    "list_all = pd.concat(list, ignore_index=True)\n",
    "Freights = list_all[['Date+Index', 'Type', 'Date', 'Index', 'Value', 'IsOceanFreight']]\n",
    "\n",
    "# When saving as CSV, Set the index information so that the index column is not saved.\n",
    "Freights_ = Freights.set_index('Date+Index')\n",
    "\n",
    "# Save the dataframe as csv file\n",
    "# Need to redirect it to your own path.\n",
    "Freights_.to_csv('C:/Python/Data/table_freights.csv', encoding='cp949')"
   ]
  },
  {
   "cell_type": "code",
   "execution_count": 19,
   "metadata": {},
   "outputs": [],
   "source": [
    "# Merge dataframes for each index into one (Oceanfreight indexes)\n",
    "OceanFreight = Freights.set_index('IsOceanFreight')\n",
    "OceanFreight.drop('False', axis=0, inplace = True)\n",
    "OceanFreight.reset_index(inplace = True)\n",
    "OceanFreight.drop(['IsOceanFreight'], axis = 1, inplace = True)\n",
    "\n",
    "# When saving as CSV, Set the index information so that the index column is not saved.\n",
    "OceanFreight = OceanFreight.set_index('Date+Index')\n",
    "\n",
    "# Save the dataframe as csv file\n",
    "# Need to redirect it to your own path.\n",
    "OceanFreight.to_csv('C:/Python/Data/table_oceanfreight.csv', encoding='cp949')"
   ]
  },
  {
   "cell_type": "code",
   "execution_count": 20,
   "metadata": {},
   "outputs": [],
   "source": [
    "# Merge dataframes for each index into one (Airfreight indexes)\n",
    "AirFreight = Freights.set_index('IsOceanFreight')\n",
    "AirFreight.drop('True', axis=0, inplace = True)\n",
    "AirFreight.reset_index(inplace = True)\n",
    "AirFreight.drop(['IsOceanFreight'], axis = 1, inplace = True)\n",
    "\n",
    "# When saving as CSV, Set the index information so that the index column is not saved.\n",
    "AirFreight = AirFreight.set_index('Date+Index')\n",
    "\n",
    "# Save the dataframe as csv file\n",
    "# Need to redirect it to your own path.\n",
    "AirFreight.to_csv('C:/Python/Data/table_airfreight.csv', encoding='cp949')"
   ]
  }
 ],
 "metadata": {
  "kernelspec": {
   "display_name": "Python 3 (ipykernel)",
   "language": "python",
   "name": "python3"
  },
  "language_info": {
   "codemirror_mode": {
    "name": "ipython",
    "version": 3
   },
   "file_extension": ".py",
   "mimetype": "text/x-python",
   "name": "python",
   "nbconvert_exporter": "python",
   "pygments_lexer": "ipython3",
   "version": "3.9.12"
  }
 },
 "nbformat": 4,
 "nbformat_minor": 4
}
