{
 "cells": [
  {
   "cell_type": "code",
   "execution_count": 5,
   "id": "82f9e7b4",
   "metadata": {},
   "outputs": [],
   "source": [
    "# Import required package\n",
    "import pandas as pd\n",
    "import sqlite3"
   ]
  },
  {
   "cell_type": "code",
   "execution_count": 6,
   "id": "808b5f27",
   "metadata": {},
   "outputs": [],
   "source": [
    "# Connecting to database\n",
    "connection = sqlite3.connect('Freight.db')\n",
    "\n",
    "# Create a cursor object\n",
    "curs = connection.cursor() \n",
    " \n",
    "# Execute a query that’ll create a users table\n",
    "curs.execute('''CREATE TABLE Freights ('Date+Index' text PRIMARY KEY, 'Type' text, 'Date' text, 'Index' text, 'Value' text, 'IsOceanFreight' text)''')    \n",
    "# Load CSV data into Pandas DataFrame\n",
    "Freights = pd.read_csv('C:/Python/Data/table_freights.csv')\n",
    "# Write the data to a sqlite db table\n",
    "Freights.to_sql('Freights', connection, if_exists='replace', index=False)\n",
    "    \n",
    "# Load another CSV into the databases\n",
    "# Create a table and then load the orders data into the database.\n",
    "curs.execute('''CREATE TABLE OceanFreight ('Date+Index' text, 'Type' text, 'Date' text, 'Index' text, 'Value' text)''')    \n",
    "OceanFreight = pd.read_csv('C:/Python/Data/table_oceanfreight.csv') # load to DataFrame\n",
    "OceanFreight.to_sql('OceanFreight', connection, if_exists='replace', index = False) # write to sqlite table\n",
    "\n",
    "curs.execute('''CREATE TABLE AirFreight ('Date+Index' text, 'Type' text, 'Date' text, 'Index' text, 'Value' text)''')    \n",
    "AirFreight = pd.read_csv('C:/Python/Data/table_airfreight.csv') # load to DataFrame\n",
    "AirFreight.to_sql('AirFreight', connection, if_exists='replace', index = False) # write to sqlite table\n",
    "\n",
    "# Close connection to SQLite database\n",
    "connection.close()"
   ]
  }
 ],
 "metadata": {
  "kernelspec": {
   "display_name": "Python 3 (ipykernel)",
   "language": "python",
   "name": "python3"
  },
  "language_info": {
   "codemirror_mode": {
    "name": "ipython",
    "version": 3
   },
   "file_extension": ".py",
   "mimetype": "text/x-python",
   "name": "python",
   "nbconvert_exporter": "python",
   "pygments_lexer": "ipython3",
   "version": "3.9.12"
  }
 },
 "nbformat": 4,
 "nbformat_minor": 5
}
