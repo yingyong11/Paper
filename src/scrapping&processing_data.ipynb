{
 "cells": [
  {
   "cell_type": "code",
   "execution_count": 1,
   "metadata": {},
   "outputs": [],
   "source": [
    "import pandas as pd\n",
    "from urllib.request import Request,urlopen\n",
    "from bs4 import BeautifulSoup\n",
    "from datetime import datetime\n",
    "from html_table_parser import parser_functions as parser\n",
    "from selenium import webdriver\n",
    "from selenium.webdriver.common.by import By\n",
    "from selenium.webdriver.support.ui import WebDriverWait\n",
    "from selenium.webdriver.support import expected_conditions as EC\n",
    "import time"
   ]
  },
  {
   "cell_type": "code",
   "execution_count": 2,
   "metadata": {},
   "outputs": [],
   "source": [
    "url_BAI = 'https://dashboard.tacindex.com/dashboard'\n",
    "url_BDI = 'https://kr.investing.com/indices/baltic-dry-historical-data'\n",
    "url_CCFI = 'https://www.kcla.kr/web/inc/html/4-1_2.asp'\n",
    "url_SCFI = 'https://www.tradlinx.com/freight-index'\n",
    "url_HRCI = 'https://www.ksg.co.kr/shippingGraph/hrci_graph.jsp'"
   ]
  },
  {
   "cell_type": "code",
   "execution_count": 3,
   "metadata": {},
   "outputs": [
    {
     "name": "stderr",
     "output_type": "stream",
     "text": [
      "C:\\Users\\류현철\\AppData\\Local\\Temp\\ipykernel_28148\\1708789828.py:2: DeprecationWarning: executable_path has been deprecated, please pass in a Service object\n",
      "  driver_BAI = webdriver.Chrome('C:/Users/defaultuser100000/python/Lib/site-packages/selenium/webdriver/chrome/chromedriver')\n"
     ]
    }
   ],
   "source": [
    "# 동적 홈페이지라서 셀레니움을 통해서 html elements 로딩\n",
    "driver_BAI = webdriver.Chrome('C:/Users/defaultuser100000/python/Lib/site-packages/selenium/webdriver/chrome/chromedriver')\n",
    "driver_BAI.get(url_BAI)\n",
    "# 내가 필요한 그! 부분이 표시될때까지 기다려라 (Explicitly Wait)\n",
    "element = WebDriverWait(driver_BAI, 5).until(EC.presence_of_element_located((By.XPATH, '/html/body/app-root/div[2]/app-dashboard/div/div/div[3]/div[4]')))\n",
    "html_BAI = driver_BAI.page_source\n",
    "soup_BAI = BeautifulSoup(html_BAI, 'html.parser')\n",
    "temp_BAI = soup_BAI.find('div',{'class':'table-container'})\n",
    "text_BAI = parser.make2d(temp_BAI)\n",
    "df_BAI=pd.DataFrame(text_BAI[1:],columns=text_BAI[0])\n",
    "\n",
    "# Table template modification \n",
    "df_BAI = df_BAI.rename(columns={'Index' : 'Item', 'Route' : 'Index'})\n",
    "df_BAI.insert(0, 'Date', datetime.today().strftime(\"%Y-%m-%d\"))\n",
    "df_BAI.insert(0, 'Type', 'Air Freight')\n",
    "df_BAI.insert(0, 'Date+Index', df_BAI['Date'] + '_' + df_BAI['Index'])\n",
    "df_BAI.insert(0, 'IsOceanFreight', 'False')"
   ]
  },
  {
   "cell_type": "code",
   "execution_count": 4,
   "metadata": {
    "scrolled": true
   },
   "outputs": [
    {
     "name": "stderr",
     "output_type": "stream",
     "text": [
      "C:\\Users\\류현철\\AppData\\Local\\Temp\\ipykernel_28148\\3591646441.py:1: DeprecationWarning: executable_path has been deprecated, please pass in a Service object\n",
      "  driver_BDI = webdriver.Chrome('C:/Users/defaultuser100000/python/Lib/site-packages/selenium/webdriver/chrome/chromedriver')\n"
     ]
    }
   ],
   "source": [
    "driver_BDI = webdriver.Chrome('C:/Users/defaultuser100000/python/Lib/site-packages/selenium/webdriver/chrome/chromedriver')\n",
    "driver_BDI.get(url_BDI)\n",
    "time.sleep(10)\n",
    "html_BDI = driver_BDI.page_source\n",
    "soup_BDI = BeautifulSoup(html_BDI, 'html.parser')\n",
    "temp_BDI = soup_BDI.find('table',{'class':'datatable_table__2Qbdw datatable_table--border__1hROx datatable_table--mobile-basic__2Up9u datatable_table--freeze-column__2e8u1'})\n",
    "text_BDI = parser.make2d(temp_BDI)\n",
    "df_BDI=pd.DataFrame(text_BDI[1:],columns=text_BDI[0])\n",
    "\n",
    "# Table template modification \n",
    "df_BDI.rename(columns={df_BDI.columns[0]: 'Date', df_BDI.columns[1]: 'Value'}, inplace=True)\n",
    "df_BDI.insert(0, 'Index', 'BDI')\n",
    "df_BDI.insert(0, 'Type', 'Ocean Freight')\n",
    "df_BDI.insert(0, 'Date+Index', df_BDI['Date'] + '_' + df_BDI['Index'])\n",
    "df_BDI.insert(0, 'IsOceanFreight', 'True')"
   ]
  },
  {
   "cell_type": "code",
   "execution_count": 5,
   "metadata": {},
   "outputs": [],
   "source": [
    "result_CCFI = urlopen(url_CCFI)\n",
    "html_CCFI = result_CCFI.read()\n",
    "soup_CCFI = BeautifulSoup(html_CCFI, 'html.parser')\n",
    "temp_CCFI = soup_CCFI.find('li',{'class':'Guide_Table01'})\n",
    "text_CCFI = parser.make2d(temp_CCFI)\n",
    "df_CCFI = pd.DataFrame(text_CCFI[0:],columns=text_CCFI[0])\n",
    "\n",
    "# Table template modification \n",
    "df_CCFI = df_CCFI.set_index('지수')\n",
    "df_CCFI = df_CCFI.transpose()\n",
    "df_CCFI.columns = ['Date', 'Value']\n",
    "df_CCFI['Date'] =df_CCFI['Date'].str.replace('.', '-', regex = True)\n",
    "df_CCFI.insert(0, 'Index', 'CCFI')\n",
    "df_CCFI.insert(0, 'Type', 'Ocean Freight')\n",
    "df_CCFI.insert(0, 'Date+Index', df_CCFI['Date'] + '_' + df_CCFI['Index'])\n",
    "df_CCFI.insert(0, 'IsOceanFreight', 'True')\n"
   ]
  },
  {
   "cell_type": "code",
   "execution_count": 6,
   "metadata": {},
   "outputs": [
    {
     "name": "stderr",
     "output_type": "stream",
     "text": [
      "C:\\Users\\류현철\\AppData\\Local\\Temp\\ipykernel_28148\\3663402931.py:2: DeprecationWarning: executable_path has been deprecated, please pass in a Service object\n",
      "  driver_SCFI = webdriver.Chrome('C:/Users/defaultuser100000/python/Lib/site-packages/selenium/webdriver/chrome/chromedriver')\n"
     ]
    }
   ],
   "source": [
    "# 동적 페이지라서 셀레니움을 통해서 html elements 로딩\n",
    "driver_SCFI = webdriver.Chrome('C:/Users/defaultuser100000/python/Lib/site-packages/selenium/webdriver/chrome/chromedriver')\n",
    "driver_SCFI.get(url_SCFI)\n",
    "html_SCFI = driver_SCFI.page_source\n",
    "soup_SCFI = BeautifulSoup(html_SCFI, 'html.parser')\n",
    "temp_SCFI = soup_SCFI.find('div',{'class':'freight-table'})\n",
    "text_SCFI = parser.make2d(temp_SCFI)\n",
    "\n",
    "# Table template modification \n",
    "df_SCFI=pd.DataFrame(text_SCFI[0:],columns=text_SCFI[0])\n",
    "df_SCFI = df_SCFI.set_index('Date\\nALL')\n",
    "df_SCFI = df_SCFI.transpose()\n",
    "df_SCFI = df_SCFI.rename(columns={'Date\\nALL' : 'Date', 'SCFI' : 'Value'})\n",
    "df_SCFI['Date'] =df_SCFI['Date'].str.replace('2022\\n                ', '2022/', regex = True)\n",
    "df_SCFI['Date'] =df_SCFI['Date'].str.replace('/', '-', regex = True)\n",
    "df_SCFI.insert(0, 'Index', 'SCFI')\n",
    "df_SCFI.insert(0, 'Type', 'Ocean Freight')\n",
    "df_SCFI.insert(0, 'Date+Index', df_SCFI['Date'] + '_' + df_SCFI['Index'])\n",
    "df_SCFI.insert(0, 'IsOceanFreight', 'True')\n"
   ]
  },
  {
   "cell_type": "code",
   "execution_count": 7,
   "metadata": {},
   "outputs": [],
   "source": [
    "result_HRCI = urlopen(url_HRCI)\n",
    "html_HRCI = result_HRCI.read()\n",
    "soup_HRCI = BeautifulSoup(html_HRCI, 'html.parser')\n",
    "temp_HRCI = soup_HRCI.find('div',{'class':'tableType01'})\n",
    "text_HRCI = parser.make2d(temp_HRCI)\n",
    "df_HRCI=pd.DataFrame(text_HRCI[1:],columns=text_HRCI[0])\n",
    "\n",
    "# Table template modification \n",
    "df_HRCI = df_HRCI.rename(columns={'날짜' : 'Date', 'Index' : 'Value'})\n",
    "df_HRCI['Date'] =df_HRCI['Date'].str.replace('.', '-', regex = True)\n",
    "df_HRCI.insert(0, 'Index', 'HRCI')\n",
    "df_HRCI.insert(0, 'Type', 'Ocean Freight')\n",
    "df_HRCI.insert(0, 'Date+Index', df_HRCI['Date'] + '_' + df_HRCI['Index'])\n",
    "df_HRCI.insert(0, 'IsOceanFreight', 'True')\n"
   ]
  },
  {
   "cell_type": "code",
   "execution_count": 8,
   "metadata": {},
   "outputs": [],
   "source": [
    "list = [df_BDI, df_CCFI, df_SCFI, df_HRCI, df_BAI]\n",
    "list_all = pd.concat(list, ignore_index=True)\n",
    "Freights = list_all[['Date+Index', 'Type', 'Date', 'Index', 'Value', 'IsOceanFreight']]\n",
    "Freights_ = Freights.set_index('Date+Index')\n",
    "Freights_.to_csv('C:/Python/Data/table_freights.csv', encoding='cp949')"
   ]
  },
  {
   "cell_type": "code",
   "execution_count": 9,
   "metadata": {},
   "outputs": [],
   "source": [
    "OceanFreight = Freights.set_index('IsOceanFreight')\n",
    "OceanFreight.drop('False', axis=0, inplace = True)\n",
    "OceanFreight.reset_index(inplace = True)\n",
    "OceanFreight.drop(['IsOceanFreight'], axis = 1, inplace = True)\n",
    "OceanFreight = OceanFreight.set_index('Date+Index')\n",
    "OceanFreight.to_csv('C:/Python/Data/table_oceanfreight.csv', encoding='cp949')"
   ]
  },
  {
   "cell_type": "code",
   "execution_count": 10,
   "metadata": {},
   "outputs": [],
   "source": [
    "AirFreight = Freights.set_index('IsOceanFreight')\n",
    "AirFreight.drop('True', axis=0, inplace = True)\n",
    "AirFreight.reset_index(inplace = True)\n",
    "AirFreight.drop(['IsOceanFreight'], axis = 1, inplace = True)\n",
    "AirFreight = AirFreight.set_index('Date+Index')\n",
    "AirFreight.to_csv('C:/Python/Data/table_airfreight.csv', encoding='cp949')"
   ]
  }
 ],
 "metadata": {
  "kernelspec": {
   "display_name": "Python 3 (ipykernel)",
   "language": "python",
   "name": "python3"
  },
  "language_info": {
   "codemirror_mode": {
    "name": "ipython",
    "version": 3
   },
   "file_extension": ".py",
   "mimetype": "text/x-python",
   "name": "python",
   "nbconvert_exporter": "python",
   "pygments_lexer": "ipython3",
   "version": "3.9.12"
  }
 },
 "nbformat": 4,
 "nbformat_minor": 4
}
